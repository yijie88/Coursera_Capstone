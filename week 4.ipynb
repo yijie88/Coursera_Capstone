{
    "cells": [
        {
            "cell_type": "markdown",
            "metadata": {
                "collapsed": true
            },
            "source": "# Introduction/ Business Problem\n***\n"
        },
        {
            "cell_type": "markdown",
            "metadata": {},
            "source": "Vancouver is one of the largestest cities in Canada. It is home to approximately two million residents as of 2020. I had the chance to visit Vancouver in 2018 and was amazed at how different it was from my home city in Mississauga, Ontario. I thought if i were to move to Vancouver for work, where are some possible locations that would suit my/ or someone else' needs. Therefore i decided to use this opportunity to research venues around different neighborhoods and distance to public transportation, price and demographic by location. \nThe housing situation in Vancouver has gotten out of control in recent years due to outside investments and the government has been trying to control it through its policies. Therefore, it is difficult to find more reasonably priced housing and thus i decided to work on this project to find the most optimum locations to live in based on the needs of individuals such as myself.\nWith the problem outlined, i can create a map of venues from different neighborhoods, demographics, price and compare against each other to see if we can find any correlation between the metrics i mentioned and to find the ideal location to live."
        },
        {
            "cell_type": "markdown",
            "metadata": {},
            "source": "# Data Acquisition "
        },
        {
            "cell_type": "markdown",
            "metadata": {},
            "source": "To consider the problem above, the following data will be acquired/\n1)https://en.wikipedia.org/wiki/List_of_neighbourhoods_in_Vancouver : this will contain the list of neighborhoods in vancouver (for coordinate i may use foursquare or google)\n2)The foursquare API will be used to gather venues around each of those neighborhoods and see what are the most common and least common types\n3)https://opendata.vancouver.ca/pages/home/ : here i will find all the concesus data from the official site of Vancouver (demographic)\n4)https://stevesaretsky.com/vancouver-real-estate-market-stats/ : i will use this site to find market pricing data for Vancouver.\n\nFor now, i believe these will be the data sets i use to tackle my problem. If i happen to run across the issue of not having enough data to solve the problem, then i will turn to other sources for additional data."
        },
        {
            "cell_type": "code",
            "execution_count": null,
            "metadata": {},
            "outputs": [],
            "source": ""
        }
    ],
    "metadata": {
        "kernelspec": {
            "display_name": "Python 3.6",
            "language": "python",
            "name": "python3"
        },
        "language_info": {
            "codemirror_mode": {
                "name": "ipython",
                "version": 3
            },
            "file_extension": ".py",
            "mimetype": "text/x-python",
            "name": "python",
            "nbconvert_exporter": "python",
            "pygments_lexer": "ipython3",
            "version": "3.6.9"
        }
    },
    "nbformat": 4,
    "nbformat_minor": 1
}